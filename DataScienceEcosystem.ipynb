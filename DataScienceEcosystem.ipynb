{
 "cells": [
  {
   "cell_type": "markdown",
   "id": "b9619f3c-72c6-4195-9be5-bb3779a309c9",
   "metadata": {
    "tags": []
   },
   "source": [
    "# Data Science Tools and Ecosystem"
   ]
  },
  {
   "cell_type": "markdown",
   "id": "dcb21e32-fc8c-4d83-a962-7658de40d114",
   "metadata": {},
   "source": [
    "In this notebook, Data Science Tools and Ecosystem are summarized.<br>\n",
    "**Objectives:**\n",
    "\n",
    "+ List popular languages for Data Science\n",
    "+ List the commonly used libraries for Data Scientists\n",
    "+ List the tools used for Data Science"
   ]
  },
  {
   "cell_type": "markdown",
   "id": "9ffad0aa-cfae-4106-8a2e-ae01420533bd",
   "metadata": {},
   "source": [
    "Some of the popular languages that Data Scientists use are:\n",
    "1. Python\n",
    "2. R\n",
    "3. Julia\n",
    "4. SQL"
   ]
  },
  {
   "cell_type": "markdown",
   "id": "15f228b4-097c-45f0-82f8-23c0fb3e1b28",
   "metadata": {},
   "source": [
    "Some of the commonly used libraries used by Data Scientists include:\n",
    "1. Numpy\n",
    "2. Matplotlib \n",
    "3. Pandas\n",
    "4. SciPy\n",
    "5. Seaborn\n",
    "6. Scikit-learn"
   ]
  },
  {
   "cell_type": "markdown",
   "id": "ee8e2501-66de-4a2c-b7d7-47332533411b",
   "metadata": {},
   "source": [
    "| Data Science Tools |\n",
    "|:-|\n",
    "| Rstudio |\n",
    "| Scrapy |\n",
    "| KNIME |"
   ]
  },
  {
   "cell_type": "markdown",
   "id": "08bab4a8-3bec-4676-9b63-ff7baee5962a",
   "metadata": {},
   "source": [
    "### Below are a few examples of evaluating arithmetic expressions in Python"
   ]
  },
  {
   "cell_type": "code",
   "execution_count": 1,
   "id": "15a57352-3c76-4513-88e0-80b3d626b4dd",
   "metadata": {
    "tags": []
   },
   "outputs": [
    {
     "data": {
      "text/plain": [
       "17"
      ]
     },
     "execution_count": 1,
     "metadata": {},
     "output_type": "execute_result"
    }
   ],
   "source": [
    "#This a simple arithmetic expression to mutiply then add integers\n",
    "(3*4)+5"
   ]
  },
  {
   "cell_type": "code",
   "execution_count": 4,
   "id": "ec829eca-c7f2-451e-8197-a658dbaa4039",
   "metadata": {
    "tags": []
   },
   "outputs": [
    {
     "name": "stdin",
     "output_type": "stream",
     "text": [
      "Enter time in minutes 200\n"
     ]
    },
    {
     "name": "stdout",
     "output_type": "stream",
     "text": [
      "Hours= 3\n"
     ]
    }
   ],
   "source": [
    "#This will convert 200 minutes to hours by diving by 60\n",
    "min=int(input(\"Enter time in minutes\"))\n",
    "h=min//60\n",
    "print(\"Hours=\",h)"
   ]
  },
  {
   "cell_type": "markdown",
   "id": "5ff2408b-0171-457f-959a-f8cb84380d1d",
   "metadata": {},
   "source": [
    "## Author\n",
    "Joseph Akintola"
   ]
  },
  {
   "cell_type": "code",
   "execution_count": null,
   "id": "b5dfa77e-9bfa-4242-bc56-76b66d188a00",
   "metadata": {},
   "outputs": [],
   "source": []
  }
 ],
 "metadata": {
  "kernelspec": {
   "display_name": "Python",
   "language": "python",
   "name": "conda-env-python-py"
  },
  "language_info": {
   "codemirror_mode": {
    "name": "ipython",
    "version": 3
   },
   "file_extension": ".py",
   "mimetype": "text/x-python",
   "name": "python",
   "nbconvert_exporter": "python",
   "pygments_lexer": "ipython3",
   "version": "3.7.12"
  }
 },
 "nbformat": 4,
 "nbformat_minor": 5
}
